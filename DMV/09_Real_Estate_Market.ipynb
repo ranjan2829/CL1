{
 "cells": [
  {
   "cell_type": "markdown",
   "metadata": {
    "id": "s-9H_YWxwDoD"
   },
   "source": [
    "# Assignment 10\n",
    " Data Wrangling on Real Estate Market"
   ]
  },
  {
   "cell_type": "code",
   "execution_count": null,
   "metadata": {
    "id": "1-DabyutwDoF",
    "outputId": "cee4734e-23bd-41dc-a97e-28484c0d5d26"
   },
   "outputs": [
    {
     "name": "stdout",
     "output_type": "stream",
     "text": [
      "Requirement already satisfied: pandas in /home/atharv/Downloads/practicals/.main-env/lib/python3.12/site-packages (2.2.2)\n",
      "Requirement already satisfied: numpy in /home/atharv/Downloads/practicals/.main-env/lib/python3.12/site-packages (2.1.1)\n",
      "Requirement already satisfied: matplotlib in /home/atharv/Downloads/practicals/.main-env/lib/python3.12/site-packages (3.9.2)\n",
      "Requirement already satisfied: python-dateutil>=2.8.2 in /home/atharv/Downloads/practicals/.main-env/lib/python3.12/site-packages (from pandas) (2.9.0.post0)\n",
      "Requirement already satisfied: pytz>=2020.1 in /home/atharv/Downloads/practicals/.main-env/lib/python3.12/site-packages (from pandas) (2024.2)\n",
      "Requirement already satisfied: tzdata>=2022.7 in /home/atharv/Downloads/practicals/.main-env/lib/python3.12/site-packages (from pandas) (2024.1)\n",
      "Requirement already satisfied: contourpy>=1.0.1 in /home/atharv/Downloads/practicals/.main-env/lib/python3.12/site-packages (from matplotlib) (1.3.0)\n",
      "Requirement already satisfied: cycler>=0.10 in /home/atharv/Downloads/practicals/.main-env/lib/python3.12/site-packages (from matplotlib) (0.12.1)\n",
      "Requirement already satisfied: fonttools>=4.22.0 in /home/atharv/Downloads/practicals/.main-env/lib/python3.12/site-packages (from matplotlib) (4.53.1)\n",
      "Requirement already satisfied: kiwisolver>=1.3.1 in /home/atharv/Downloads/practicals/.main-env/lib/python3.12/site-packages (from matplotlib) (1.4.7)\n",
      "Requirement already satisfied: packaging>=20.0 in /home/atharv/Downloads/practicals/.main-env/lib/python3.12/site-packages (from matplotlib) (24.1)\n",
      "Requirement already satisfied: pillow>=8 in /home/atharv/Downloads/practicals/.main-env/lib/python3.12/site-packages (from matplotlib) (10.4.0)\n",
      "Requirement already satisfied: pyparsing>=2.3.1 in /home/atharv/Downloads/practicals/.main-env/lib/python3.12/site-packages (from matplotlib) (3.1.4)\n",
      "Requirement already satisfied: six>=1.5 in /home/atharv/Downloads/practicals/.main-env/lib/python3.12/site-packages (from python-dateutil>=2.8.2->pandas) (1.16.0)\n"
     ]
    }
   ],
   "source": [
    "! pip install pandas numpy matplotlib"
   ]
  },
  {
   "cell_type": "code",
   "execution_count": 26,
   "metadata": {
    "id": "g3LonkqGwDoH"
   },
   "outputs": [],
   "source": [
    "import pandas as pd\n",
    "import numpy as np\n",
    "from matplotlib import pyplot as plt\n",
    "%matplotlib inline\n",
    "import matplotlib\n",
    "matplotlib.rcParams[\"figure.figsize\"] = (20,10)"
   ]
  },
  {
   "cell_type": "code",
   "execution_count": 27,
   "metadata": {
    "id": "l_eB85hxwDoI",
    "outputId": "8baeb3e4-e6ab-4c11-ecac-b98c88978276"
   },
   "outputs": [
    {
     "data": {
      "text/html": [
       "<div>\n",
       "<style scoped>\n",
       "    .dataframe tbody tr th:only-of-type {\n",
       "        vertical-align: middle;\n",
       "    }\n",
       "\n",
       "    .dataframe tbody tr th {\n",
       "        vertical-align: top;\n",
       "    }\n",
       "\n",
       "    .dataframe thead th {\n",
       "        text-align: right;\n",
       "    }\n",
       "</style>\n",
       "<table border=\"1\" class=\"dataframe\">\n",
       "  <thead>\n",
       "    <tr style=\"text-align: right;\">\n",
       "      <th></th>\n",
       "      <th>area_type</th>\n",
       "      <th>availability</th>\n",
       "      <th>location</th>\n",
       "      <th>size</th>\n",
       "      <th>society</th>\n",
       "      <th>total_sqft</th>\n",
       "      <th>bath</th>\n",
       "      <th>balcony</th>\n",
       "      <th>price</th>\n",
       "    </tr>\n",
       "  </thead>\n",
       "  <tbody>\n",
       "    <tr>\n",
       "      <th>0</th>\n",
       "      <td>Super built-up  Area</td>\n",
       "      <td>19-Dec</td>\n",
       "      <td>Electronic City Phase II</td>\n",
       "      <td>2 BHK</td>\n",
       "      <td>Coomee</td>\n",
       "      <td>1056</td>\n",
       "      <td>2.0</td>\n",
       "      <td>1.0</td>\n",
       "      <td>39.07</td>\n",
       "    </tr>\n",
       "    <tr>\n",
       "      <th>1</th>\n",
       "      <td>Plot  Area</td>\n",
       "      <td>Ready To Move</td>\n",
       "      <td>Chikka Tirupathi</td>\n",
       "      <td>4 Bedroom</td>\n",
       "      <td>Theanmp</td>\n",
       "      <td>2600</td>\n",
       "      <td>5.0</td>\n",
       "      <td>3.0</td>\n",
       "      <td>120.00</td>\n",
       "    </tr>\n",
       "    <tr>\n",
       "      <th>2</th>\n",
       "      <td>Built-up  Area</td>\n",
       "      <td>Ready To Move</td>\n",
       "      <td>Uttarahalli</td>\n",
       "      <td>3 BHK</td>\n",
       "      <td>NaN</td>\n",
       "      <td>1440</td>\n",
       "      <td>2.0</td>\n",
       "      <td>3.0</td>\n",
       "      <td>62.00</td>\n",
       "    </tr>\n",
       "    <tr>\n",
       "      <th>3</th>\n",
       "      <td>Super built-up  Area</td>\n",
       "      <td>Ready To Move</td>\n",
       "      <td>Lingadheeranahalli</td>\n",
       "      <td>3 BHK</td>\n",
       "      <td>Soiewre</td>\n",
       "      <td>1521</td>\n",
       "      <td>3.0</td>\n",
       "      <td>1.0</td>\n",
       "      <td>95.00</td>\n",
       "    </tr>\n",
       "    <tr>\n",
       "      <th>4</th>\n",
       "      <td>Super built-up  Area</td>\n",
       "      <td>Ready To Move</td>\n",
       "      <td>Kothanur</td>\n",
       "      <td>2 BHK</td>\n",
       "      <td>NaN</td>\n",
       "      <td>1200</td>\n",
       "      <td>2.0</td>\n",
       "      <td>1.0</td>\n",
       "      <td>51.00</td>\n",
       "    </tr>\n",
       "  </tbody>\n",
       "</table>\n",
       "</div>"
      ],
      "text/plain": [
       "              area_type   availability                  location       size  \\\n",
       "0  Super built-up  Area         19-Dec  Electronic City Phase II      2 BHK   \n",
       "1            Plot  Area  Ready To Move          Chikka Tirupathi  4 Bedroom   \n",
       "2        Built-up  Area  Ready To Move               Uttarahalli      3 BHK   \n",
       "3  Super built-up  Area  Ready To Move        Lingadheeranahalli      3 BHK   \n",
       "4  Super built-up  Area  Ready To Move                  Kothanur      2 BHK   \n",
       "\n",
       "   society total_sqft  bath  balcony   price  \n",
       "0  Coomee        1056   2.0      1.0   39.07  \n",
       "1  Theanmp       2600   5.0      3.0  120.00  \n",
       "2      NaN       1440   2.0      3.0   62.00  \n",
       "3  Soiewre       1521   3.0      1.0   95.00  \n",
       "4      NaN       1200   2.0      1.0   51.00  "
      ]
     },
     "execution_count": 27,
     "metadata": {},
     "output_type": "execute_result"
    }
   ],
   "source": [
    "df1 = pd.read_csv(\"Bengaluru_House_Data.csv\")\n",
    "df1.head()"
   ]
  },
  {
   "cell_type": "code",
   "execution_count": 28,
   "metadata": {
    "id": "4sIiD23uwDoI",
    "outputId": "3708e776-f4da-4151-c899-bf1612d828a2"
   },
   "outputs": [
    {
     "data": {
      "text/plain": [
       "(13320, 9)"
      ]
     },
     "execution_count": 28,
     "metadata": {},
     "output_type": "execute_result"
    }
   ],
   "source": [
    "df1.shape"
   ]
  },
  {
   "cell_type": "code",
   "execution_count": 29,
   "metadata": {
    "id": "UG-VISdQwDoJ",
    "outputId": "d5d14e9b-c062-4075-8aa9-2287185fb6eb"
   },
   "outputs": [
    {
     "data": {
      "text/plain": [
       "Index(['area_type', 'availability', 'location', 'size', 'society',\n",
       "       'total_sqft', 'bath', 'balcony', 'price'],\n",
       "      dtype='object')"
      ]
     },
     "execution_count": 29,
     "metadata": {},
     "output_type": "execute_result"
    }
   ],
   "source": [
    "df1.columns"
   ]
  },
  {
   "cell_type": "code",
   "execution_count": 30,
   "metadata": {
    "id": "DBAePucDwDoJ",
    "outputId": "bba0945e-bb64-47de-c312-64a64ce2e8dd"
   },
   "outputs": [
    {
     "data": {
      "text/plain": [
       "0        Super built-up  Area\n",
       "1                  Plot  Area\n",
       "2              Built-up  Area\n",
       "3        Super built-up  Area\n",
       "4        Super built-up  Area\n",
       "                 ...         \n",
       "13315          Built-up  Area\n",
       "13316    Super built-up  Area\n",
       "13317          Built-up  Area\n",
       "13318    Super built-up  Area\n",
       "13319    Super built-up  Area\n",
       "Name: area_type, Length: 13320, dtype: object"
      ]
     },
     "execution_count": 30,
     "metadata": {},
     "output_type": "execute_result"
    }
   ],
   "source": [
    "df1['area_type']"
   ]
  },
  {
   "cell_type": "code",
   "execution_count": 31,
   "metadata": {
    "id": "He7oVHefwDoJ",
    "outputId": "3e2621f0-5278-44e6-8a1b-4914c2002fcf"
   },
   "outputs": [
    {
     "data": {
      "text/plain": [
       "array(['Super built-up  Area', 'Plot  Area', 'Built-up  Area',\n",
       "       'Carpet  Area'], dtype=object)"
      ]
     },
     "execution_count": 31,
     "metadata": {},
     "output_type": "execute_result"
    }
   ],
   "source": [
    "df1['area_type'].unique()"
   ]
  },
  {
   "cell_type": "code",
   "execution_count": 32,
   "metadata": {
    "id": "v1-9fonEwDoK",
    "outputId": "336617b3-24e8-4ad9-af5e-4bbd4a4dbd52"
   },
   "outputs": [
    {
     "data": {
      "text/plain": [
       "area_type\n",
       "Super built-up  Area    8790\n",
       "Built-up  Area          2418\n",
       "Plot  Area              2025\n",
       "Carpet  Area              87\n",
       "Name: count, dtype: int64"
      ]
     },
     "execution_count": 32,
     "metadata": {},
     "output_type": "execute_result"
    }
   ],
   "source": [
    "df1['area_type'].value_counts()"
   ]
  },
  {
   "cell_type": "code",
   "execution_count": 33,
   "metadata": {
    "id": "2S8ziCwFwDoK",
    "outputId": "c0c0079e-2396-471a-8485-44d3c19233d6"
   },
   "outputs": [
    {
     "data": {
      "text/plain": [
       "(13320, 5)"
      ]
     },
     "execution_count": 33,
     "metadata": {},
     "output_type": "execute_result"
    }
   ],
   "source": [
    "df2 = df1.drop(['area_type','society','balcony','availability'],axis='columns')\n",
    "df2.shape"
   ]
  },
  {
   "cell_type": "code",
   "execution_count": 34,
   "metadata": {
    "id": "B4CN7NLdwDoL",
    "outputId": "a5e6d1eb-fa22-401d-f3ec-778d6fe6b631"
   },
   "outputs": [
    {
     "data": {
      "text/plain": [
       "location       1\n",
       "size          16\n",
       "total_sqft     0\n",
       "bath          73\n",
       "price          0\n",
       "dtype: int64"
      ]
     },
     "execution_count": 34,
     "metadata": {},
     "output_type": "execute_result"
    }
   ],
   "source": [
    "df2.isnull().sum()"
   ]
  },
  {
   "cell_type": "code",
   "execution_count": 35,
   "metadata": {
    "id": "MLd3gH65wDoL",
    "outputId": "9bbea877-987a-4402-d6c6-0f8128939fdd"
   },
   "outputs": [
    {
     "data": {
      "text/plain": [
       "(13320, 5)"
      ]
     },
     "execution_count": 35,
     "metadata": {},
     "output_type": "execute_result"
    }
   ],
   "source": [
    "df2.shape"
   ]
  },
  {
   "cell_type": "code",
   "execution_count": 36,
   "metadata": {
    "id": "1gtzmqaTwDoL",
    "outputId": "6560b9b6-589c-46e0-f17c-25defe91fdac"
   },
   "outputs": [
    {
     "data": {
      "text/plain": [
       "location      0\n",
       "size          0\n",
       "total_sqft    0\n",
       "bath          0\n",
       "price         0\n",
       "dtype: int64"
      ]
     },
     "execution_count": 36,
     "metadata": {},
     "output_type": "execute_result"
    }
   ],
   "source": [
    "df3 = df2.dropna()\n",
    "df3.isnull().sum()"
   ]
  },
  {
   "cell_type": "code",
   "execution_count": 37,
   "metadata": {
    "id": "LEEWJF4bwDoL",
    "outputId": "1bc981ee-4e9e-455b-aecf-26e3de989c49"
   },
   "outputs": [
    {
     "data": {
      "text/plain": [
       "(13246, 5)"
      ]
     },
     "execution_count": 37,
     "metadata": {},
     "output_type": "execute_result"
    }
   ],
   "source": [
    "df3.shape"
   ]
  },
  {
   "cell_type": "code",
   "execution_count": 38,
   "metadata": {
    "id": "7Xbwtn2xwDoM",
    "outputId": "f2b61f02-da60-4812-ba8c-d4bdbead8fe0"
   },
   "outputs": [
    {
     "data": {
      "text/plain": [
       "array(['2 BHK', '4 Bedroom', '3 BHK', '4 BHK', '6 Bedroom', '3 Bedroom',\n",
       "       '1 BHK', '1 RK', '1 Bedroom', '8 Bedroom', '2 Bedroom',\n",
       "       '7 Bedroom', '5 BHK', '7 BHK', '6 BHK', '5 Bedroom', '11 BHK',\n",
       "       '9 BHK', '9 Bedroom', '27 BHK', '10 Bedroom', '11 Bedroom',\n",
       "       '10 BHK', '19 BHK', '16 BHK', '43 Bedroom', '14 BHK', '8 BHK',\n",
       "       '12 Bedroom', '13 BHK', '18 Bedroom'], dtype=object)"
      ]
     },
     "execution_count": 38,
     "metadata": {},
     "output_type": "execute_result"
    }
   ],
   "source": [
    "df3['size'].unique()"
   ]
  },
  {
   "cell_type": "code",
   "execution_count": 39,
   "metadata": {
    "id": "doySGt0PwDoM",
    "outputId": "00e8bc88-0061-4c5e-a0c5-1519d4cd0619"
   },
   "outputs": [
    {
     "name": "stderr",
     "output_type": "stream",
     "text": [
      "/var/folders/yx/fbqgtypx3wz76xxzks5ywwh80000gn/T/ipykernel_61086/2222900254.py:1: SettingWithCopyWarning: \n",
      "A value is trying to be set on a copy of a slice from a DataFrame.\n",
      "Try using .loc[row_indexer,col_indexer] = value instead\n",
      "\n",
      "See the caveats in the documentation: https://pandas.pydata.org/pandas-docs/stable/user_guide/indexing.html#returning-a-view-versus-a-copy\n",
      "  df3['bhk'] = df3['size'].apply(lambda x: int(x.split(' ')[0]))\n"
     ]
    }
   ],
   "source": [
    "df3['bhk'] = df3['size'].apply(lambda x: int(x.split(' ')[0]))"
   ]
  },
  {
   "cell_type": "code",
   "execution_count": 40,
   "metadata": {
    "id": "hO8Ug4HfwDoM",
    "outputId": "24e8f69e-40f6-4e97-c2ef-23b848f00831"
   },
   "outputs": [
    {
     "data": {
      "text/plain": [
       "array([ 2,  4,  3,  6,  1,  8,  7,  5, 11,  9, 27, 10, 19, 16, 43, 14, 12,\n",
       "       13, 18])"
      ]
     },
     "execution_count": 40,
     "metadata": {},
     "output_type": "execute_result"
    }
   ],
   "source": [
    "df3.bhk.unique()"
   ]
  },
  {
   "cell_type": "code",
   "execution_count": 41,
   "metadata": {
    "id": "K9fppDPVwDoM",
    "outputId": "1468f6b5-2dd1-4e6d-e462-8f885cdc9eef"
   },
   "outputs": [
    {
     "data": {
      "text/plain": [
       "array(['1056', '2600', '1440', ..., '1133 - 1384', '774', '4689'],\n",
       "      dtype=object)"
      ]
     },
     "execution_count": 41,
     "metadata": {},
     "output_type": "execute_result"
    }
   ],
   "source": [
    "df3.total_sqft.unique()"
   ]
  },
  {
   "cell_type": "code",
   "execution_count": 44,
   "metadata": {
    "id": "hLvFe-RbwDoM"
   },
   "outputs": [
    {
     "data": {
      "image/png": "[encoded data removed]",
      "text/plain": [
       "<Figure size 1400x600 with 1 Axes>"
      ]
     },
     "metadata": {},
     "output_type": "display_data"
    }
   ],
   "source": [
    "import seaborn as sns\n",
    "\n",
    "# Step 1: Identify Outliers Using Box Plots\n",
    "plt.figure(figsize=(14, 6))\n",
    "sns.boxplot(data=df1, x='area_type', y='price')\n",
    "plt.title('Box Plot of Prices by Area Type', fontsize=16)\n",
    "plt.xticks(rotation=45)\n",
    "plt.xlabel('Area Type', fontsize=14)\n",
    "plt.ylabel('Price', fontsize=14)\n",
    "plt.grid()\n",
    "plt.show()"
   ]
  },
  {
   "cell_type": "code",
   "execution_count": 45,
   "metadata": {},
   "outputs": [
    {
     "name": "stdout",
     "output_type": "stream",
     "text": [
      "\n",
      "Aggregated Data by Location:\n",
      "            location   mean_price  median_price  count\n",
      "351      Cubbon Road  1900.000000        1900.0      1\n",
      "145      Ashok Nagar  1486.000000        1486.0      2\n",
      "362   Defence Colony  1167.714286         365.0      7\n",
      "1265          Yemlur  1093.388889        1675.0      9\n",
      "339    Church Street  1068.000000        1068.0      2\n"
     ]
    }
   ],
   "source": [
    "aggregated_data = df1.groupby('location').agg(\n",
    "    mean_price=('price', 'mean'),\n",
    "    median_price=('price', 'median'),\n",
    "    count=('price', 'size')\n",
    ").reset_index()\n",
    "\n",
    "# Display the aggregated data\n",
    "print(\"\\nAggregated Data by Location:\")\n",
    "print(aggregated_data.sort_values(by='mean_price', ascending=False).head())\n"
   ]
  },
  {
   "cell_type": "code",
   "execution_count": 47,
   "metadata": {},
   "outputs": [
    {
     "name": "stdout",
     "output_type": "stream",
     "text": [
      "Average Sale Prices by Neighborhood:\n",
      "                 location    avg_price\n",
      "351           Cubbon Road  1900.000000\n",
      "145           Ashok Nagar  1486.000000\n",
      "362        Defence Colony  1167.714286\n",
      "1265               Yemlur  1093.388889\n",
      "339         Church Street  1068.000000\n",
      "354        D Souza Layout  1015.000000\n",
      "1022      Sadashiva Nagar  1011.100000\n",
      "1081        Sindhi Colony   988.000000\n",
      "1103      Srinivas Colony   922.000000\n",
      "61    5th Block Jayanagar   905.000000\n",
      "\n",
      "Average Sale Prices by Property Type:\n",
      "              area_type   avg_price\n",
      "2            Plot  Area  208.495486\n",
      "0        Built-up  Area  104.285498\n",
      "3  Super built-up  Area   92.971757\n",
      "1          Carpet  Area   89.502356\n",
      "\n",
      "Average Sale Prices by Neighborhood and Property Type:\n",
      "                   location             area_type  avg_price\n",
      "657          Defence Colony            Plot  Area    3200.00\n",
      "1852        Sadashiva Nagar            Plot  Area    2736.00\n",
      "732          Dollars Colony            Plot  Area    2300.00\n",
      "637             Cubbon Road  Super built-up  Area    1900.00\n",
      "2279                 Yemlur            Plot  Area    1881.25\n",
      "617           Church Street  Super built-up  Area    1600.00\n",
      "261             Ashok Nagar  Super built-up  Area    1486.00\n",
      "638         Cunningham Road            Plot  Area    1368.00\n",
      "1799  Ramakrishnappa Layout            Plot  Area    1335.00\n",
      "727        Dodsworth Layout            Plot  Area    1208.25\n"
     ]
    }
   ],
   "source": [
    "\n",
    "\n",
    "# Calculate average sale prices by neighborhood (location)\n",
    "avg_price_by_location = df1.groupby('location')['price'].mean().reset_index()\n",
    "\n",
    "# Calculate average sale prices by property type (area_type)\n",
    "avg_price_by_area_type = df1.groupby('area_type')['price'].mean().reset_index()\n",
    "\n",
    "# Calculate average sale prices by neighborhood and property type\n",
    "avg_price_by_location_and_area_type = df1.groupby(['location', 'area_type'])['price'].mean().reset_index()\n",
    "\n",
    "# Rename the columns for clarity\n",
    "avg_price_by_location.rename(columns={'price': 'avg_price'}, inplace=True)\n",
    "avg_price_by_area_type.rename(columns={'price': 'avg_price'}, inplace=True)\n",
    "avg_price_by_location_and_area_type.rename(columns={'price': 'avg_price'}, inplace=True)\n",
    "\n",
    "# Display the results\n",
    "print(\"Average Sale Prices by Neighborhood:\")\n",
    "print(avg_price_by_location.sort_values(by='avg_price', ascending=False).head(10))\n",
    "\n",
    "print(\"\\nAverage Sale Prices by Property Type:\")\n",
    "print(avg_price_by_area_type.sort_values(by='avg_price', ascending=False))\n",
    "\n",
    "print(\"\\nAverage Sale Prices by Neighborhood and Property Type:\")\n",
    "print(avg_price_by_location_and_area_type.sort_values(by='avg_price', ascending=False).head(10))"
   ]
  },
  {
   "cell_type": "code",
   "execution_count": null,
   "metadata": {},
   "outputs": [],
   "source": []
  }
 ],
 "metadata": {
  "colab": {
   "provenance": []
  },
  "kernelspec": {
   "display_name": "Python 3 (ipykernel)",
   "language": "python",
   "name": "python3"
  },
  "language_info": {
   "codemirror_mode": {
    "name": "ipython",
    "version": 3
   },
   "file_extension": ".py",
   "mimetype": "text/x-python",
   "name": "python",
   "nbconvert_exporter": "python",
   "pygments_lexer": "ipython3",
   "version": "3.11.8"
  }
 },
 "nbformat": 4,
 "nbformat_minor": 4
}
